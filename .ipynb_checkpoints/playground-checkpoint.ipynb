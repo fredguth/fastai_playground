{
 "cells": [
  {
   "cell_type": "code",
   "execution_count": 2,
   "metadata": {},
   "outputs": [],
   "source": [
    "from fastai.torch_core import *\n",
    "from fastai.data import DataBunch\n",
    "from fastai.callback import *\n",
    "from fastai.basic_train import Learner, LearnerCallback"
   ]
  },
  {
   "cell_type": "code",
   "execution_count": 28,
   "metadata": {},
   "outputs": [],
   "source": [
    "from fastai import * \n",
    "from fastai.docs import * \n",
    "from fastai.vision import * "
   ]
  },
  {
   "cell_type": "code",
   "execution_count": 27,
   "metadata": {},
   "outputs": [],
   "source": [
    "# __all__ = ['TerminateOnNaN', 'EarlyStopping']"
   ]
  },
  {
   "cell_type": "code",
   "execution_count": 7,
   "metadata": {},
   "outputs": [
    {
     "data": {
      "application/vnd.jupyter.widget-view+json": {
       "model_id": "efbd45c88fd34063b81b871e0ed42fe1",
       "version_major": 2,
       "version_minor": 0
      },
      "text/plain": [
       "HBox(children=(IntProgress(value=0, max=3214948), HTML(value='')))"
      ]
     },
     "metadata": {},
     "output_type": "display_data"
    },
    {
     "data": {
      "text/plain": [
       "PosixPath('../data/mnist_sample')"
      ]
     },
     "execution_count": 7,
     "metadata": {},
     "output_type": "execute_result"
    }
   ],
   "source": [
    "untar_data(MNIST_PATH)\n",
    "MNIST_PATH"
   ]
  },
  {
   "cell_type": "code",
   "execution_count": 62,
   "metadata": {},
   "outputs": [],
   "source": [
    "data = image_data_from_folder(MNIST_PATH, ds_tfms=(rand_pad(2, 28), []))"
   ]
  },
  {
   "cell_type": "markdown",
   "metadata": {},
   "source": [
    "### The Problem: Loss is Nan"
   ]
  },
  {
   "cell_type": "code",
   "execution_count": 88,
   "metadata": {},
   "outputs": [
    {
     "data": {
      "application/vnd.jupyter.widget-view+json": {
       "model_id": "",
       "version_major": 2,
       "version_minor": 0
      },
      "text/plain": [
       "VBox(children=(HBox(children=(IntProgress(value=0, max=2), HTML(value='0.00% [0/2 00:00<00:00]'))), HTML(value…"
      ]
     },
     "metadata": {},
     "output_type": "display_data"
    },
    {
     "name": "stdout",
     "output_type": "stream",
     "text": [
      "Total time: 00:07\n",
      "epoch  train loss  valid loss  accuracy\n",
      "0      nan         nan         0.495584  (00:03)\n",
      "1      nan         nan         0.495584  (00:03)\n",
      "\n"
     ]
    }
   ],
   "source": [
    "learn = ConvLearner(data, tvm.resnet18, metrics=[accuracy])\n",
    "learn.fit(2,1e4)"
   ]
  },
  {
   "cell_type": "markdown",
   "metadata": {},
   "source": [
    "### The Solution"
   ]
  },
  {
   "cell_type": "markdown",
   "metadata": {},
   "source": [
    "The Callback bellow is influenced by Keras Callback of same name."
   ]
  },
  {
   "cell_type": "code",
   "execution_count": 163,
   "metadata": {},
   "outputs": [],
   "source": [
    "class TerminateOnNaN(LearnerCallback):\n",
    "    \"A `LearnerCallback` that terminates training if loss is NaN.\"\n",
    "    \n",
    "    def __init__(self):\n",
    "        super().__init__(learn)\n",
    "        self.stop = False\n",
    "    \n",
    "    def on_batch_end(self,epoch:int, num_batch:int,  **kwargs:Any)->None:\n",
    "        loss = learn.recorder.losses[-1:][0]\n",
    "        if loss is not None:\n",
    "            if torch.isnan(loss):\n",
    "                print (f'Epoch/Batch ({epoch}/{num_batch}): Invalid loss, terminating training.')\n",
    "                self.stop = True\n",
    "                return True\n",
    "    \n",
    "    def on_epoch_end(self, metrics, **kwargs:Any)->None:\n",
    "        return self.stop\n",
    "    "
   ]
  },
  {
   "cell_type": "code",
   "execution_count": 164,
   "metadata": {},
   "outputs": [],
   "source": [
    "learn = ConvLearner(data, tvm.resnet18, metrics=[accuracy])"
   ]
  },
  {
   "cell_type": "code",
   "execution_count": 165,
   "metadata": {},
   "outputs": [
    {
     "data": {
      "application/vnd.jupyter.widget-view+json": {
       "model_id": "af34c11d87eb48668d61c600ee03c225",
       "version_major": 2,
       "version_minor": 0
      },
      "text/plain": [
       "VBox(children=(HBox(children=(IntProgress(value=0, max=2), HTML(value='0.00% [0/2 00:00<00:00]'))), HTML(value…"
      ]
     },
     "metadata": {},
     "output_type": "display_data"
    },
    {
     "name": "stdout",
     "output_type": "stream",
     "text": [
      "Epoch/Batch (0/6): Invalid loss, terminating training.\n",
      "Epoch/Batch (0/7): Invalid loss, terminating training.\n"
     ]
    }
   ],
   "source": [
    "learn.fit(2,1e4, callbacks=[TerminateOnNaN()])"
   ]
  },
  {
   "cell_type": "markdown",
   "metadata": {},
   "source": [
    "Actually, I don't know why it went to the second batch if I set return `True` in the first."
   ]
  },
  {
   "cell_type": "markdown",
   "metadata": {},
   "source": [
    "### The Problem: Metric does not improve"
   ]
  },
  {
   "cell_type": "code",
   "execution_count": 122,
   "metadata": {},
   "outputs": [],
   "source": [
    "learn = ConvLearner(data, tvm.resnet18, metrics=[accuracy, accuracy])"
   ]
  },
  {
   "cell_type": "code",
   "execution_count": 123,
   "metadata": {},
   "outputs": [
    {
     "data": {
      "application/vnd.jupyter.widget-view+json": {
       "model_id": "",
       "version_major": 2,
       "version_minor": 0
      },
      "text/plain": [
       "VBox(children=(HBox(children=(IntProgress(value=0, max=10), HTML(value='0.00% [0/10 00:00<00:00]'))), HTML(val…"
      ]
     },
     "metadata": {},
     "output_type": "display_data"
    },
    {
     "name": "stdout",
     "output_type": "stream",
     "text": [
      "Total time: 00:42\n",
      "epoch  train loss  valid loss  accuracy  accuracy\n",
      "0      0.921106    0.787993    0.516683  0.516683  (00:04)\n",
      "1      0.912194    0.763384    0.539745  0.539745  (00:03)\n",
      "2      0.927705    0.771625    0.530422  0.530422  (00:04)\n",
      "3      0.952577    0.780007    0.529931  0.529931  (00:04)\n",
      "4      0.914487    0.792268    0.523552  0.523552  (00:04)\n",
      "5      0.920072    0.779946    0.533857  0.533857  (00:04)\n",
      "6      0.922355    0.779907    0.523552  0.523552  (00:04)\n",
      "7      0.935991    0.794458    0.513739  0.513739  (00:04)\n",
      "8      0.925322    0.776205    0.535819  0.535819  (00:04)\n",
      "9      0.925311    0.784154    0.521099  0.521099  (00:04)\n",
      "\n"
     ]
    }
   ],
   "source": [
    "learn.fit(3,1e-42)"
   ]
  },
  {
   "cell_type": "markdown",
   "metadata": {},
   "source": [
    "The Callback bellow is basically a simplified port of Keras Early Stopping callback to fastai/pytorch."
   ]
  },
  {
   "cell_type": "code",
   "execution_count": 310,
   "metadata": {},
   "outputs": [],
   "source": [
    "class EarlyStopping(LearnerCallback):\n",
    "    \"A `LearnerCallback` that terminates training when monitored quantity stops improving.\"\n",
    "    def __init__(self, \n",
    "                 monitor='val_loss',\n",
    "                 min_delta=0,\n",
    "                 patience=0,\n",
    "                 mode='auto'):\n",
    "        \n",
    "        super().__init__(learn)\n",
    "        \n",
    "        self.monitor = monitor\n",
    "        self.min_delta = min_delta\n",
    "        self.patience = patience\n",
    "        self.mode = mode\n",
    "        if mode not in ['auto', 'min', 'max']:\n",
    "            #should I use warning?\n",
    "            print(f'TerminateEarly mode {mode} is invalid, falling back to \"auto\" mode.')\n",
    "            mode = 'auto'\n",
    "        if mode == 'min':\n",
    "            self.operator = np.less\n",
    "        elif mode == 'max':\n",
    "            self.operator = np.greater\n",
    "        else:\n",
    "            if 'acc' in self.monitor:\n",
    "                self.operator = np.greater\n",
    "            else:\n",
    "                self.operator = np.less\n",
    "        if self.operator == np.less:\n",
    "            self.min_delta *= -1\n",
    "    \n",
    "    def on_train_begin(self, **kwargs:Any)->None:\n",
    "        self.wait = 0\n",
    "        self.stopped_epoch = 0\n",
    "        self.best = float('inf') if self.operator == np.less else -float('inf')\n",
    "\n",
    "    def on_epoch_end(self, epoch, **kwargs:Any)->None:\n",
    "        current = self.get_monitor_value()\n",
    "        if current is None:\n",
    "            return\n",
    "         \n",
    "        if self.operator(current - self.min_delta, self.best):\n",
    "            \n",
    "            self.best = current\n",
    "            self.wait = 0\n",
    "        else:\n",
    "            \n",
    "            self.wait += 1\n",
    "            if self.wait >= self.patience:\n",
    "                self.stopped_epoch = epoch\n",
    "                return True\n",
    "        return False\n",
    "                \n",
    "    def on_train_end(self, **kwargs:Any)->None:\n",
    "        if self.stopped_epoch > 0:\n",
    "            print(f'Epoch {self.stopped_epoch}: early stopping')\n",
    "                                                                          \n",
    "    def get_monitor_value(self):\n",
    "        values = {'val_loss':learn.recorder.val_losses[-1:][0]\n",
    "               ,'trn_loss':learn.recorder.losses[-1:][0].cpu().numpy()}\n",
    "        for i, name in enumerate(learn.recorder.names[3:]):\n",
    "            values[name]=learn.recorder.metrics[-1:][0][i] \n",
    "\n",
    "        if values.get(self.monitor) is None:\n",
    "            print(f'Early stopping conditioned on metric `{self.monitor}` which is not available. Available metrics are: {\", \".join(map(str, learn.recorder.names[3:]))}')   \n",
    "        return values.get(self.monitor)\n",
    "    "
   ]
  },
  {
   "cell_type": "code",
   "execution_count": 308,
   "metadata": {},
   "outputs": [],
   "source": [
    "learn = ConvLearner(data, tvm.resnet18, metrics=[accuracy], callbacks=[EarlyStopping(monitor='accuracy', min_delta=0.01, patience=3)] )"
   ]
  },
  {
   "cell_type": "code",
   "execution_count": 309,
   "metadata": {},
   "outputs": [
    {
     "name": "stdout",
     "output_type": "stream",
     "text": [
      "best::::::-inf\n"
     ]
    },
    {
     "data": {
      "application/vnd.jupyter.widget-view+json": {
       "model_id": "e85c19946306497483d7d1807daceb43",
       "version_major": 2,
       "version_minor": 0
      },
      "text/plain": [
       "VBox(children=(HBox(children=(IntProgress(value=0, max=50), HTML(value='0.00% [0/50 00:00<00:00]'))), HTML(val…"
      ]
     },
     "metadata": {},
     "output_type": "display_data"
    },
    {
     "name": "stdout",
     "output_type": "stream",
     "text": [
      "current:0.5505397319793701, best:-inf\n",
      "best:0.5505397319793701, current:0.5456329584121704, operator:<ufunc 'greater'>\n",
      "best:0.5505397319793701, current:0.5466143488883972, operator:<ufunc 'greater'>\n",
      "best:0.5505397319793701, current:0.5510303974151611, operator:<ufunc 'greater'>\n",
      "Epoch 3: early stopping\n"
     ]
    }
   ],
   "source": [
    "learn.fit(50,1e-42)"
   ]
  },
  {
   "cell_type": "code",
   "execution_count": 232,
   "metadata": {},
   "outputs": [
    {
     "data": {
      "text/plain": [
       "0.8651589"
      ]
     },
     "execution_count": 232,
     "metadata": {},
     "output_type": "execute_result"
    }
   ],
   "source": [
    "learn.recorder.val_losses[-1:][0]"
   ]
  },
  {
   "cell_type": "code",
   "execution_count": 247,
   "metadata": {},
   "outputs": [
    {
     "data": {
      "text/plain": [
       "{'c': 1, 'accuracy': 0.5210991}"
      ]
     },
     "execution_count": 247,
     "metadata": {},
     "output_type": "execute_result"
    }
   ],
   "source": [
    "a"
   ]
  },
  {
   "cell_type": "code",
   "execution_count": 250,
   "metadata": {},
   "outputs": [],
   "source": [
    "a.get('cebola')"
   ]
  },
  {
   "cell_type": "code",
   "execution_count": null,
   "metadata": {},
   "outputs": [],
   "source": []
  }
 ],
 "metadata": {
  "kernelspec": {
   "display_name": "Python 3",
   "language": "python",
   "name": "python3"
  },
  "language_info": {
   "codemirror_mode": {
    "name": "ipython",
    "version": 3
   },
   "file_extension": ".py",
   "mimetype": "text/x-python",
   "name": "python",
   "nbconvert_exporter": "python",
   "pygments_lexer": "ipython3",
   "version": "3.7.0"
  }
 },
 "nbformat": 4,
 "nbformat_minor": 2
}
